{
 "cells": [
  {
   "cell_type": "code",
   "execution_count": 68,
   "id": "3c991ecd-a9c3-40a3-bb33-1005c334975c",
   "metadata": {},
   "outputs": [],
   "source": [
    "# program 6 - write a program to implement the navie bayesian classifer for a sample training data set stored as a .csv file \n",
    "# compute the accuracy of the classifier consider few test data sets.\n",
    "# NavieBayes classification technique is based on Bayes theorem with an assumption of independence among features"
   ]
  },
  {
   "cell_type": "code",
   "execution_count": 2,
   "id": "a68b407b-9618-4cb4-9e8f-64f6b4d6ef78",
   "metadata": {},
   "outputs": [
    {
     "name": "stdout",
     "output_type": "stream",
     "text": [
      "     Outlook Temperature Humidity    Wind Play Tennis\n",
      "0      Sunny         Hot     High    Weak          No\n",
      "1      Sunny         Hot     High  Strong          No\n",
      "2   Overcast         Hot     High    Weak         Yes\n",
      "3       Rain        Mild     High    Weak         Yes\n",
      "4       Rain        Cool   Normal    Weak         Yes\n",
      "5       Rain        Cool   Normal  Strong          No\n",
      "6   Overcast        Cool   Normal  Strong         Yes\n",
      "7      Sunny        Mild     High    Weak          No\n",
      "8      Sunny        Cool   Normal    Weak         Yes\n",
      "9       Rain        Mild   Normal    Weak         Yes\n",
      "10     Sunny        Mild   Normal  Strong         Yes\n",
      "11  Overcast        Mild     High  Strong         Yes\n",
      "12  Overcast         Hot   Normal    Weak         Yes\n",
      "13      Rain        Mild     High  Strong          No\n"
     ]
    }
   ],
   "source": [
    "import pandas as pd\n",
    "\n",
    "df =    pd.read_csv(r'LabFiles/playtennis.csv')\n",
    "print(df)"
   ]
  },
  {
   "cell_type": "code",
   "execution_count": 3,
   "id": "6930b21f-319c-43d2-805a-3cd0123d181d",
   "metadata": {},
   "outputs": [
    {
     "name": "stdout",
     "output_type": "stream",
     "text": [
      "correct predictions are: 13 out actual_values: 14\n",
      "Training Accuracy: 92.86%\n"
     ]
    }
   ],
   "source": [
    "# Extracting features and labels\n",
    "data = df.drop('Play Tennis', axis=1).values.tolist()  # Features\n",
    "labels = df['Play Tennis'].values.tolist()  # Labels\n",
    "\n",
    "# Function to calculate prior probabilities\n",
    "def calculate_prior(labels):\n",
    "    prior = {}\n",
    "    total_samples = len(labels)\n",
    "    for label in labels:\n",
    "        if label not in prior:\n",
    "            prior[label] = labels.count(label) / total_samples\n",
    "    return prior\n",
    "\n",
    "# Function to calculate conditional probabilities\n",
    "def calculate_conditional(data, labels):\n",
    "    conditional = {}\n",
    "    all_classes = list(set(labels))  # Unique classes\n",
    "    for i in range(len(data[0])):  # Loop through each feature\n",
    "        for cls in all_classes:  # Loop through each class\n",
    "            key = f\"feature_{i}_given_{cls}\"\n",
    "            conditional[key] = {}\n",
    "            subset_data = [data[j][i] for j in range(len(data)) if labels[j] == cls]\n",
    "            total_count = len(subset_data)\n",
    "            unique_values = set(subset_data)\n",
    "            for val in unique_values:\n",
    "                conditional[key][val] = subset_data.count(val) / total_count\n",
    "    return conditional\n",
    "\n",
    "# Function to predict using Naive Bayes\n",
    "def predict(sample, prior, conditional):\n",
    "    classes = list(prior.keys())\n",
    "    probabilities = {cls: prior[cls] for cls in classes}\n",
    "    for cls in classes:\n",
    "        for i in range(len(sample)):\n",
    "            key = f\"feature_{i}_given_{cls}\"\n",
    "            if sample[i] in conditional[key]:\n",
    "                probabilities[cls] *= conditional[key][sample[i]]\n",
    "            else:\n",
    "                probabilities[cls] *= 0  # Handling unseen values\n",
    "    return max(probabilities, key=probabilities.get)\n",
    "\n",
    "# Calculating prior probabilities\n",
    "prior_probabilities = calculate_prior(labels)\n",
    "# print(prior_probabilities)\n",
    "\n",
    "# Calculating conditional probabilities\n",
    "conditional_probabilities = calculate_conditional(data, labels)\n",
    "\n",
    "# Testing the classifier\n",
    "correct_predictions = 0\n",
    "for idx, sample in enumerate(data):\n",
    "    prediction = predict(sample, prior_probabilities, conditional_probabilities)\n",
    "    # print(f'prediction: {prediction}, actual_value:{labels[idx]}')\n",
    "    if prediction == labels[idx]:\n",
    "        correct_predictions += 1\n",
    "        \n",
    "print(f'correct predictions are: {correct_predictions} out actual_values: {len(data)}')\n",
    "# Calculate and display training accuracy\n",
    "training_accuracy = correct_predictions / len(data) * 100\n",
    "print(f\"Training Accuracy: {training_accuracy:.2f}%\")\n"
   ]
  },
  {
   "cell_type": "code",
   "execution_count": 64,
   "id": "0e6d36e3-b63d-4af4-b737-71bb5e829678",
   "metadata": {},
   "outputs": [
    {
     "name": "stdout",
     "output_type": "stream",
     "text": [
      "Prediction for ['Sunny', 'Cool', 'Normal', 'Strong']: Yes\n"
     ]
    }
   ],
   "source": [
    "# Testing the classifier 1\n",
    "test_sample = ['Sunny', 'Cool', 'Normal', 'Strong']  # Test with a sample\n",
    "prediction = predict(test_sample, prior_probabilities, conditional_probabilities)\n",
    "print(f\"Prediction for {test_sample}: {prediction}\")"
   ]
  },
  {
   "cell_type": "code",
   "execution_count": 63,
   "id": "730103c8-9849-4011-b323-aa28251bd340",
   "metadata": {},
   "outputs": [
    {
     "name": "stdout",
     "output_type": "stream",
     "text": [
      "Prediction for ['Sunny', 'Cool', 'High', 'Strong']: No\n"
     ]
    }
   ],
   "source": [
    "# Testing the classifier 2\n",
    "test_sample = ['Sunny', 'Cool', 'High', 'Strong']  # Test with a sample\n",
    "prediction = predict(test_sample, prior_probabilities, conditional_probabilities)\n",
    "print(f\"Prediction for {test_sample}: {prediction}\")"
   ]
  }
 ],
 "metadata": {
  "kernelspec": {
   "display_name": "Python 3 (ipykernel)",
   "language": "python",
   "name": "python3"
  },
  "language_info": {
   "codemirror_mode": {
    "name": "ipython",
    "version": 3
   },
   "file_extension": ".py",
   "mimetype": "text/x-python",
   "name": "python",
   "nbconvert_exporter": "python",
   "pygments_lexer": "ipython3",
   "version": "3.12.0"
  }
 },
 "nbformat": 4,
 "nbformat_minor": 5
}
