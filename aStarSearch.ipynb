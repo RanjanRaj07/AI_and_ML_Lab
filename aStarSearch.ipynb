{
 "cells": [
  {
   "cell_type": "code",
   "execution_count": null,
   "id": "ade444a3-8a68-4250-a1fb-dab5ffae1926",
   "metadata": {},
   "outputs": [],
   "source": [
    "# program 1 - Implement A* search algorithm\n",
    "# A* search is an extended BFS algorithm that prioritizes the shortest routes that it can reach first and then the other routes. \n",
    "# It is optimal and complete."
   ]
  },
  {
   "cell_type": "code",
   "execution_count": 6,
   "id": "5b5fdbb8-be01-4131-b256-a3b3be015ab1",
   "metadata": {},
   "outputs": [
    {
     "name": "stdout",
     "output_type": "stream",
     "text": [
      "path found : ['A', 'F', 'H', 'I', 'J']\n"
     ]
    },
    {
     "data": {
      "text/plain": [
       "['A', 'F', 'H', 'I', 'J']"
      ]
     },
     "execution_count": 6,
     "metadata": {},
     "output_type": "execute_result"
    }
   ],
   "source": [
    "def aStarAlgo(start_node, stop_node):\n",
    "    open_set = set(start_node)\n",
    "    closed_set = set()\n",
    "    g = {}\n",
    "    parents = {}\n",
    "    g[start_node] = 0\n",
    "    parents[start_node] = start_node\n",
    "    \n",
    "    while len(open_set) > 0:\n",
    "        n = None\n",
    "        \n",
    "        for v in open_set:\n",
    "            if n == None or g[v] + hueristic(v) < g[n] + hueristic(n):\n",
    "                n = v\n",
    "        \n",
    "        if n == stop_node or graph_nodes[n] == None:\n",
    "            pass\n",
    "        else:\n",
    "            for(m, weight) in get_neighbors(n):\n",
    "                if m not in open_set and m not in closed_set:\n",
    "                    open_set.add(m)\n",
    "                    parents[m] = n\n",
    "                    g[m] = g[n] + weight\n",
    "                else:\n",
    "                    if g[m] > g[n] + weight:\n",
    "                        g[m] = g[n] + weight\n",
    "                        parents[m] = n\n",
    "\n",
    "                        if m in closed_set:\n",
    "                            closed_set.remove(m)\n",
    "                            open_set.add(m)\n",
    "\n",
    "        if n == None:\n",
    "            print('path does not exist!')\n",
    "            return None\n",
    "\n",
    "        if n == stop_node:\n",
    "            path = []\n",
    "            while parents[n] != n:\n",
    "                path.append(n)\n",
    "                n = parents[n]\n",
    "\n",
    "            path.append(start_node)\n",
    "            path.reverse()\n",
    "\n",
    "            print('path found : {}'.format(path))\n",
    "            return path\n",
    "\n",
    "        open_set.remove(n)\n",
    "        closed_set.add(n)\n",
    "\n",
    "    print('path does not exist!!')\n",
    "    return None\n",
    "\n",
    "def get_neighbors(v):\n",
    "    if  v in graph_nodes:\n",
    "        return graph_nodes[v]\n",
    "    else:\n",
    "        return None\n",
    "        \n",
    "def hueristic(n):\n",
    "    H_dist = {\n",
    "        'A' : 10,\n",
    "        'B' : 8,\n",
    "        'C' : 5,\n",
    "        'D' : 7,\n",
    "        'E' : 3,\n",
    "        'F' : 6,\n",
    "        'G' : 5,\n",
    "        'H' : 3,\n",
    "        'I' : 1,\n",
    "        'J' : 0\n",
    "    }\n",
    "    return H_dist[n]\n",
    "\n",
    "graph_nodes = {\n",
    "    'A' : [('B',6), ('F',3)],\n",
    "    'B' : [('C',3), ('D',2)],\n",
    "    'C' : [('D',1), ('E',5)],\n",
    "    'D' : [('C',1), ('E',8)],\n",
    "    'E' : [('I',5), ('J',5)],\n",
    "    'F' : [('G',1), ('H',7)],\n",
    "    'G' : [('G',0)],\n",
    "    'H' : [('I', 2)],\n",
    "    'I' : [('E',5), ('J',3)]\n",
    "}\n",
    "\n",
    "aStarAlgo('A','J')"
   ]
  }
 ],
 "metadata": {
  "kernelspec": {
   "display_name": "Python 3 (ipykernel)",
   "language": "python",
   "name": "python3"
  },
  "language_info": {
   "codemirror_mode": {
    "name": "ipython",
    "version": 3
   },
   "file_extension": ".py",
   "mimetype": "text/x-python",
   "name": "python",
   "nbconvert_exporter": "python",
   "pygments_lexer": "ipython3",
   "version": "3.12.0"
  }
 },
 "nbformat": 4,
 "nbformat_minor": 5
}
