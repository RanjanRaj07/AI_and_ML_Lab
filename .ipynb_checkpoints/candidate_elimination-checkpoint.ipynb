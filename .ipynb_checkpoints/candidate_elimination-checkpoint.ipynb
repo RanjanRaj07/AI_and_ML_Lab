{
 "cells": [
  {
   "cell_type": "code",
   "execution_count": 1,
   "id": "ffdd53cd-cd5a-4537-baa1-03c1f2e17406",
   "metadata": {},
   "outputs": [],
   "source": [
    "# Program - 3 Candidate Elimination\n",
    "# For a given set of training data examples stored in a .csv file implement and demonstrate the cadidate elimination algorithm\n",
    "# output a description of the set of all hypothesis consistent with the training examples."
   ]
  },
  {
   "cell_type": "code",
   "execution_count": 5,
   "id": "a4dea61e-fb95-49cb-ad46-e4cceb991c52",
   "metadata": {},
   "outputs": [
    {
     "name": "stdout",
     "output_type": "stream",
     "text": [
      "     sky airtemp humidity    wind water forcast enjoysport\n",
      "0  Sunny    Warm   Normal  Strong  Warm    Same        Yes\n",
      "1  Sunny    Warm     High  Strong  Warm    Same        Yes\n",
      "2  Rainy    Cold     High  Strong  Warm  Change         No\n",
      "3  Sunny    Warm     High  Strong  Cool  Change        Yes\n"
     ]
    }
   ],
   "source": [
    "import pandas as pd\n",
    "\n",
    "df = pd.read_csv(r'LabFiles\\trainingexamples.csv')\n",
    "print(df)"
   ]
  },
  {
   "cell_type": "code",
   "execution_count": 7,
   "id": "3cfa8eba-aa52-4dbe-8396-0721223dd607",
   "metadata": {},
   "outputs": [
    {
     "name": "stdout",
     "output_type": "stream",
     "text": [
      "\n",
      "step 1 of candidate elimination algorithm\n",
      "['Sunny', 'Warm', 'Normal', 'Strong', 'Warm', 'Same']\n",
      "[['?', '?', '?', '?', '?', '?'], ['?', '?', '?', '?', '?', '?'], ['?', '?', '?', '?', '?', '?'], ['?', '?', '?', '?', '?', '?'], ['?', '?', '?', '?', '?', '?'], ['?', '?', '?', '?', '?', '?']]\n",
      "\n",
      "step 2 of candidate elimination algorithm\n",
      "['Sunny', 'Warm', 'Normal', 'Strong', 'Warm', 'Same']\n",
      "[['?', '?', '?', '?', '?', '?'], ['?', '?', '?', '?', '?', '?'], ['?', '?', '?', '?', '?', '?'], ['?', '?', '?', '?', '?', '?'], ['?', '?', '?', '?', '?', '?'], ['?', '?', '?', '?', '?', '?']]\n",
      "\n",
      "step 3 of candidate elimination algorithm\n",
      "['Sunny', 'Warm', '?', 'Strong', 'Warm', 'Same']\n",
      "[['?', '?', '?', '?', '?', '?'], ['?', '?', '?', '?', '?', '?'], ['?', '?', '?', '?', '?', '?'], ['?', '?', '?', '?', '?', '?'], ['?', '?', '?', '?', '?', '?'], ['?', '?', '?', '?', '?', '?']]\n",
      "\n",
      "step 4 of candidate elimination algorithm\n",
      "['Sunny', 'Warm', '?', 'Strong', 'Warm', 'Same']\n",
      "[['Sunny', '?', '?', '?', '?', '?'], ['?', 'Warm', '?', '?', '?', '?'], ['?', '?', '?', '?', '?', '?'], ['?', '?', '?', '?', '?', '?'], ['?', '?', '?', '?', '?', '?'], ['?', '?', '?', '?', '?', 'Same']]\n",
      "\n",
      "step 5 of candidate elimination algorithm\n",
      "['Sunny', 'Warm', '?', 'Strong', '?', '?']\n",
      "[['Sunny', '?', '?', '?', '?', '?'], ['?', 'Warm', '?', '?', '?', '?'], ['?', '?', '?', '?', '?', '?'], ['?', '?', '?', '?', '?', '?'], ['?', '?', '?', '?', '?', '?'], ['?', '?', '?', '?', '?', '?']]\n",
      "\n",
      " Final specific hypothesis: \n",
      " ['Sunny', 'Warm', '?', 'Strong', '?', '?']\n",
      "\n",
      " Final general hypothesis:  \n",
      " [['Sunny', '?', '?', '?', '?', '?'], ['?', 'Warm', '?', '?', '?', '?']]\n"
     ]
    }
   ],
   "source": [
    "import csv\n",
    "\n",
    "with open(r'LabFiles\\trainingexamples.csv') as f:\n",
    "    csv_file = csv.reader(f)\n",
    "    data = list(csv_file)\n",
    "\n",
    "    specific = data[1][:-1]\n",
    "    general = [['?' for i in range(len(specific))] for i in range(len(specific))]\n",
    "\n",
    "    for i in data:\n",
    "        if i[-1] == 'Yes':\n",
    "            for j in range(len(specific)):\n",
    "                if i[j] != specific[j]:\n",
    "                    specific[j] = '?'\n",
    "                    general[j][j] = '?'\n",
    "        elif i[-1] == 'No':\n",
    "            for j in range(len(specific)):\n",
    "                if i[j] != specific[j]:\n",
    "                    general[j][j] = specific[j]\n",
    "                else:\n",
    "                    general[j][j] = '?'\n",
    "\n",
    "        print('\\nstep '+str(data.index(i)+1)+' of candidate elimination algorithm')\n",
    "        print(specific)\n",
    "        print(general)\n",
    "\n",
    "#general hypothesis\n",
    "gh = []\n",
    "for i in general:\n",
    "    for j in i:\n",
    "        if j != '?':\n",
    "            gh.append(i)\n",
    "            break\n",
    "\n",
    "print('\\n Final specific hypothesis: \\n',specific)\n",
    "print('\\n Final general hypothesis:  \\n',gh)"
   ]
  }
 ],
 "metadata": {
  "kernelspec": {
   "display_name": "Python 3 (ipykernel)",
   "language": "python",
   "name": "python3"
  },
  "language_info": {
   "codemirror_mode": {
    "name": "ipython",
    "version": 3
   },
   "file_extension": ".py",
   "mimetype": "text/x-python",
   "name": "python",
   "nbconvert_exporter": "python",
   "pygments_lexer": "ipython3",
   "version": "3.12.0"
  }
 },
 "nbformat": 4,
 "nbformat_minor": 5
}
