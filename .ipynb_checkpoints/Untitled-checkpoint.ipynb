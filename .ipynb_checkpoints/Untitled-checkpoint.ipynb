{
 "cells": [
  {
   "cell_type": "code",
   "execution_count": 1,
   "id": "5d5ab24e-fbd6-43d5-903e-c219ff4be37b",
   "metadata": {},
   "outputs": [
    {
     "name": "stdout",
     "output_type": "stream",
     "text": [
      "     Outlook Temperature Humidity    Wind Play Tennis\n",
      "0      Sunny         Hot     High    Weak          No\n",
      "1      Sunny         Hot     High  Strong          No\n",
      "2   Overcast         Hot     High    Weak         Yes\n",
      "3       Rain        Mild     High    Weak         Yes\n",
      "4       Rain        Cool   Normal    Weak         Yes\n",
      "5       Rain        Cool   Normal  Strong          No\n",
      "6   Overcast        Cool   Normal  Strong         Yes\n",
      "7      Sunny        Mild     High    Weak          No\n",
      "8      Sunny        Cool   Normal    Weak         Yes\n",
      "9       Rain        Mild   Normal    Weak         Yes\n",
      "10     Sunny        Mild   Normal  Strong         Yes\n",
      "11  Overcast        Mild     High  Strong         Yes\n",
      "12  Overcast         Hot   Normal    Weak         Yes\n",
      "13      Rain        Mild     High  Strong          No\n"
     ]
    }
   ],
   "source": [
    "import pandas as pd\n",
    "df =    pd.read_csv(r'PlayTennis.csv')\n",
    "print(df)\n"
   ]
  },
  {
   "cell_type": "code",
   "execution_count": null,
   "id": "c953354a-992d-4909-9a44-6b46cd1d959e",
   "metadata": {},
   "outputs": [],
   "source": [
    "data = df.drop('Play Tennis').values.tolist()  # Features\n",
    "labels = df['Play Tennis'].values.tolist()  # Labels\n",
    "\n",
    "# Function to calculate prior probabilities\n",
    "def calculate_prior(labels):\n",
    "    prior = {}\n",
    "    total_samples = len(labels)\n",
    "    for label in labels:\n",
    "        if label not in prior:\n",
    "            prior[label] = labels.count(label) / total_samples\n",
    "    return prior\n",
    "\n",
    "# Function to calculate conditional probabilities\n",
    "def calculate_conditional(data, labels):\n",
    "    conditional = {}\n",
    "    all_classes = list(set(labels))  # Unique classes\n",
    "    for i in range(len(data[0])):  # Loop through each feature\n",
    "        for cls in all_classes:  # Loop through each class\n",
    "            key = f\"feature_{i}_given_{cls}\"\n",
    "            conditional[key] = {}\n",
    "            subset_data = [data[j][i] for j in range(len(data)) if labels[j] == cls]\n",
    "            total_count = len(subset_data)\n",
    "            unique_values = set(subset_data)\n",
    "            for val in unique_values:\n",
    "                conditional[key][val] = subset_data.count(val) / total_count\n",
    "    return conditional\n",
    "\n",
    "# Function to predict using Naive Bayes\n",
    "def predict(sample, prior, conditional):\n",
    "    classes = list(prior.keys())\n",
    "    probabilities = {cls: prior[cls] for cls in classes}\n",
    "    for cls in classes:\n",
    "        for i in range(len(sample)):\n",
    "            key = f\"feature_{i}_given_{cls}\"\n",
    "            if sample[i] in conditional[key]:\n",
    "                probabilities[cls] *= conditional[key][sample[i]]\n",
    "            else:\n",
    "                probabilities[cls] *= 0  # Handling unseen values\n",
    "    return max(probabilities, key=probabilities.get)\n",
    "\n",
    "# Calculating prior probabilities\n",
    "prior_probabilities = calculate_prior(labels)\n",
    "# print(prior_probabilities)\n",
    "\n",
    "# Calculating conditional probabilities\n",
    "conditional_probabilities = calculate_conditional(data, labels)\n",
    "\n",
    "# Testing the classifier\n",
    "correct_predictions = 0\n",
    "for idx, sample in enumerate(data):\n",
    "    prediction = predict(sample, prior_probabilities, conditional_probabilities)\n",
    "    # print(f'prediction: {prediction}, actual_value:{labels[idx]}')\n",
    "    if prediction == labels[idx]:\n",
    "        correct_predictions += 1\n",
    "        \n",
    "print(f'correct predictions are: {correct_predictions} out actual_values: {len(data)}')\n",
    "# Calculate and display training accuracy\n",
    "training_accuracy = correct_predictions / len(data) * 100\n",
    "print(f\"Training Accuracy: {training_accuracy:.2f}%\")\n"
   ]
  }
 ],
 "metadata": {
  "kernelspec": {
   "display_name": "Python 3 (ipykernel)",
   "language": "python",
   "name": "python3"
  },
  "language_info": {
   "codemirror_mode": {
    "name": "ipython",
    "version": 3
   },
   "file_extension": ".py",
   "mimetype": "text/x-python",
   "name": "python",
   "nbconvert_exporter": "python",
   "pygments_lexer": "ipython3",
   "version": "3.12.0"
  }
 },
 "nbformat": 4,
 "nbformat_minor": 5
}
