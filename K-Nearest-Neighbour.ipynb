{
 "cells": [
  {
   "cell_type": "code",
   "execution_count": 1,
   "id": "4846e874-4b19-4777-8c3f-7165ac944619",
   "metadata": {},
   "outputs": [],
   "source": [
    "#program 8 - Write a program to implement K-Nearest-Neighbour algorithm to classify the iris data set. print both correct and wrong predictions \n",
    "# java/ PythonML library classes can be used for this problem."
   ]
  },
  {
   "cell_type": "code",
   "execution_count": 2,
   "id": "e60abd2d-4af2-4d22-87e5-bd4bdadf2f4d",
   "metadata": {},
   "outputs": [],
   "source": [
    "def getIrisSpecies(val):\n",
    "    if val == 0:\n",
    "        return 'Iris-setosa'\n",
    "    elif val == 1:\n",
    "        return 'Iris-versicolor'\n",
    "    elif val == 2:\n",
    "        return 'Iris-virginica'\n",
    "    else:\n",
    "        return 'Invalid vlaue'"
   ]
  },
  {
   "cell_type": "code",
   "execution_count": 1,
   "id": "0dacc33b-d3f9-4c88-a38a-adf35b5869ca",
   "metadata": {},
   "outputs": [
    {
     "data": {
      "text/html": [
       "<div>\n",
       "<style scoped>\n",
       "    .dataframe tbody tr th:only-of-type {\n",
       "        vertical-align: middle;\n",
       "    }\n",
       "\n",
       "    .dataframe tbody tr th {\n",
       "        vertical-align: top;\n",
       "    }\n",
       "\n",
       "    .dataframe thead th {\n",
       "        text-align: right;\n",
       "    }\n",
       "</style>\n",
       "<table border=\"1\" class=\"dataframe\">\n",
       "  <thead>\n",
       "    <tr style=\"text-align: right;\">\n",
       "      <th></th>\n",
       "      <th>sepal length (cm)</th>\n",
       "      <th>sepal width (cm)</th>\n",
       "      <th>petal length (cm)</th>\n",
       "      <th>petal width (cm)</th>\n",
       "      <th>target</th>\n",
       "    </tr>\n",
       "  </thead>\n",
       "  <tbody>\n",
       "    <tr>\n",
       "      <th>0</th>\n",
       "      <td>5.1</td>\n",
       "      <td>3.5</td>\n",
       "      <td>1.4</td>\n",
       "      <td>0.2</td>\n",
       "      <td>0</td>\n",
       "    </tr>\n",
       "    <tr>\n",
       "      <th>1</th>\n",
       "      <td>4.9</td>\n",
       "      <td>3.0</td>\n",
       "      <td>1.4</td>\n",
       "      <td>0.2</td>\n",
       "      <td>0</td>\n",
       "    </tr>\n",
       "    <tr>\n",
       "      <th>2</th>\n",
       "      <td>4.7</td>\n",
       "      <td>3.2</td>\n",
       "      <td>1.3</td>\n",
       "      <td>0.2</td>\n",
       "      <td>0</td>\n",
       "    </tr>\n",
       "    <tr>\n",
       "      <th>3</th>\n",
       "      <td>4.6</td>\n",
       "      <td>3.1</td>\n",
       "      <td>1.5</td>\n",
       "      <td>0.2</td>\n",
       "      <td>0</td>\n",
       "    </tr>\n",
       "    <tr>\n",
       "      <th>4</th>\n",
       "      <td>5.0</td>\n",
       "      <td>3.6</td>\n",
       "      <td>1.4</td>\n",
       "      <td>0.2</td>\n",
       "      <td>0</td>\n",
       "    </tr>\n",
       "  </tbody>\n",
       "</table>\n",
       "</div>"
      ],
      "text/plain": [
       "   sepal length (cm)  sepal width (cm)  petal length (cm)  petal width (cm)  \\\n",
       "0                5.1               3.5                1.4               0.2   \n",
       "1                4.9               3.0                1.4               0.2   \n",
       "2                4.7               3.2                1.3               0.2   \n",
       "3                4.6               3.1                1.5               0.2   \n",
       "4                5.0               3.6                1.4               0.2   \n",
       "\n",
       "   target  \n",
       "0       0  \n",
       "1       0  \n",
       "2       0  \n",
       "3       0  \n",
       "4       0  "
      ]
     },
     "execution_count": 1,
     "metadata": {},
     "output_type": "execute_result"
    }
   ],
   "source": [
    "import pandas as pd\n",
    "import numpy as np\n",
    "from sklearn import datasets\n",
    "from sklearn.neighbors import KNeighborsClassifier\n",
    "from sklearn.model_selection import train_test_split\n",
    "import matplotlib.pyplot as plt\n",
    "\n",
    "dataset = datasets.load_iris()\n",
    "iris_df = pd.DataFrame(data=dataset.data, columns=dataset.feature_names)\n",
    "iris_df['target'] = dataset.target\n",
    "iris_df.head()"
   ]
  },
  {
   "cell_type": "code",
   "execution_count": 3,
   "id": "caa3abac-f51e-499e-b01d-3d70c3bfcb73",
   "metadata": {},
   "outputs": [
    {
     "name": "stdout",
     "output_type": "stream",
     "text": [
      "Training accuracy = 0.975\n",
      "Testing accuracy = 0.9666666666666667\n"
     ]
    }
   ],
   "source": [
    "X = pd.DataFrame(dataset.data)\n",
    "Y = pd.DataFrame(dataset.target)\n",
    "\n",
    "X_train, X_test, Y_train, Y_test = train_test_split(X, Y, test_size=0.2)\n",
    "\n",
    "knn = KNeighborsClassifier(n_neighbors = 5)\n",
    "knn.fit(X_train, Y_train.values.ravel())\n",
    "\n",
    "accuracy_train = knn.score(X_train, Y_train)\n",
    "accuracy_test = knn.score(X_test, Y_test)\n",
    "\n",
    "print(f'Training accuracy = {accuracy_train}')\n",
    "print(f'Testing accuracy = {accuracy_test}')"
   ]
  },
  {
   "cell_type": "code",
   "execution_count": 4,
   "id": "16fec0e2-03a1-48cd-9e53-6abc183f0bf4",
   "metadata": {},
   "outputs": [
    {
     "name": "stdout",
     "output_type": "stream",
     "text": [
      "Dataset classes             0\n",
      "0      setosa\n",
      "1  versicolor\n",
      "2   virginica\n"
     ]
    }
   ],
   "source": [
    "available_class = pd.DataFrame(dataset.target_names)\n",
    "print(f'Dataset classes {available_class}')"
   ]
  },
  {
   "cell_type": "code",
   "execution_count": 5,
   "id": "4d9c1be0-8e5d-4b38-b08e-9860ca7afbb7",
   "metadata": {},
   "outputs": [
    {
     "name": "stdout",
     "output_type": "stream",
     "text": [
      "Input sample [[4.8 3.1 1.2 0.1]]\n",
      "KNN prediction \n",
      "Target_class = 0, \n",
      "Target_species = Iris-setosa\n"
     ]
    }
   ],
   "source": [
    "example = np.array([[4.8, 3.1, 1.2, 0.1]])\n",
    "print(f'Input sample {example}')\n",
    "example_prediction = int(knn.predict(example)[0])\n",
    "print(f'KNN prediction \\nTarget_class = {example_prediction}, \\nTarget_species = {getIrisSpecies(example_prediction)}')"
   ]
  },
  {
   "cell_type": "code",
   "execution_count": 12,
   "id": "62c4f4ea-2cee-489c-8da7-5ef3dd83f0c3",
   "metadata": {},
   "outputs": [
    {
     "data": {
      "text/plain": [
       "[<matplotlib.lines.Line2D at 0x21cfafcef60>,\n",
       " <matplotlib.lines.Line2D at 0x21cfafceff0>,\n",
       " <matplotlib.lines.Line2D at 0x21cfafcf0b0>,\n",
       " <matplotlib.lines.Line2D at 0x21cfafcf170>]"
      ]
     },
     "execution_count": 12,
     "metadata": {},
     "output_type": "execute_result"
    },
    {
     "data": {
      "image/png": "[encoded data removed]",
      "text/plain": [
       "<Figure size 640x480 with 1 Axes>"
      ]
     },
     "metadata": {},
     "output_type": "display_data"
    }
   ],
   "source": [
    "Y_pred = knn.predict(X_test)\n",
    "plt.title('test v/s pred comparission')\n",
    "plt.xlabel('observations')\n",
    "plt.ylabel('classes')\n",
    "plt.plot(X_test, Y_test, 'ro')\n",
    "plt.plot(X_test, Y_pred, 'b+')"
   ]
  },
  {
   "cell_type": "markdown",
   "id": "08a049de-3351-4030-9fb8-c07f5b4a05dc",
   "metadata": {},
   "source": [
    "### Observation from the plotted graph\n",
    "we can clearly see that the trained KNN model predicts the test values with more than 95% accuracy "
   ]
  }
 ],
 "metadata": {
  "kernelspec": {
   "display_name": "Python 3 (ipykernel)",
   "language": "python",
   "name": "python3"
  },
  "language_info": {
   "codemirror_mode": {
    "name": "ipython",
    "version": 3
   },
   "file_extension": ".py",
   "mimetype": "text/x-python",
   "name": "python",
   "nbconvert_exporter": "python",
   "pygments_lexer": "ipython3",
   "version": "3.12.0"
  }
 },
 "nbformat": 4,
 "nbformat_minor": 5
}
